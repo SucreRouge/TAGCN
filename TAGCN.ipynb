{
 "cells": [
  {
   "cell_type": "code",
   "execution_count": 1,
   "metadata": {},
   "outputs": [
    {
     "name": "stderr",
     "output_type": "stream",
     "text": [
      "/home/krohak/anaconda3/lib/python3.6/importlib/_bootstrap.py:205: RuntimeWarning: compiletime version 3.5 of module 'tensorflow.python.framework.fast_tensor_util' does not match runtime version 3.6\n",
      "  return f(*args, **kwds)\n"
     ]
    }
   ],
   "source": [
    "import tensorflow as tf"
   ]
  },
  {
   "cell_type": "code",
   "execution_count": 2,
   "metadata": {
    "collapsed": true
   },
   "outputs": [],
   "source": [
    "from utils import *"
   ]
  },
  {
   "cell_type": "code",
   "execution_count": 3,
   "metadata": {
    "collapsed": true
   },
   "outputs": [],
   "source": [
    "flags = tf.app.flags\n",
    "FLAGS = flags.FLAGS\n",
    "flags.DEFINE_string('dataset', 'cora', 'Dataset string.')  # 'cora', 'citeseer', 'pubmed'\n",
    "flags.DEFINE_string('model', 'gcn', 'Model string.')  # 'gcn', 'gcn_cheby', 'dense'\n",
    "flags.DEFINE_float('learning_rate', 0.01, 'Initial learning rate.')\n",
    "flags.DEFINE_integer('epochs', 200, 'Number of epochs to train.')\n",
    "flags.DEFINE_integer('hidden1', 16, 'Number of units in hidden layer 1.')\n",
    "flags.DEFINE_float('dropout', 0.5, 'Dropout rate (1 - keep probability).')\n",
    "flags.DEFINE_float('weight_decay', 5e-4, 'Weight for L2 loss on embedding matrix.')\n",
    "flags.DEFINE_integer('early_stopping', 10, 'Tolerance for early stopping (# of epochs).')\n",
    "flags.DEFINE_integer('max_degree', 3, 'Maximum Chebyshev polynomial degree.')"
   ]
  },
  {
   "cell_type": "code",
   "execution_count": 4,
   "metadata": {
    "collapsed": true
   },
   "outputs": [],
   "source": [
    "adj, features, y_train, y_val, y_test, train_mask, val_mask, test_mask = load_data(FLAGS.dataset)"
   ]
  },
  {
   "cell_type": "code",
   "execution_count": 5,
   "metadata": {},
   "outputs": [
    {
     "data": {
      "text/plain": [
       "scipy.sparse.lil.lil_matrix"
      ]
     },
     "execution_count": 5,
     "metadata": {},
     "output_type": "execute_result"
    }
   ],
   "source": [
    "type(features)"
   ]
  },
  {
   "cell_type": "code",
   "execution_count": 6,
   "metadata": {
    "collapsed": true
   },
   "outputs": [],
   "source": [
    "#print(adj[0]\n",
    "import numpy as np\n",
    "from collections import Counter\n",
    "#y_train.tolist()\n"
   ]
  },
  {
   "cell_type": "markdown",
   "metadata": {},
   "source": [
    "## Creating the weight matrix"
   ]
  },
  {
   "cell_type": "code",
   "execution_count": null,
   "metadata": {
    "collapsed": true
   },
   "outputs": [],
   "source": [
    "import networkx as nx\n",
    "G = nx.Graph(adj)\n",
    "#G.add_path([0,1,2])\n",
    "#list(nx.bfs_edges([0,1,2],0))"
   ]
  },
  {
   "cell_type": "code",
   "execution_count": null,
   "metadata": {
    "collapsed": true
   },
   "outputs": [],
   "source": [
    "paths = nx.all_simple_paths(G, source=0, target=1378,cutoff=2)"
   ]
  },
  {
   "cell_type": "code",
   "execution_count": null,
   "metadata": {
    "collapsed": true
   },
   "outputs": [],
   "source": [
    "paths=[p for p in paths]\n",
    "len(paths)"
   ]
  },
  {
   "cell_type": "code",
   "execution_count": null,
   "metadata": {
    "collapsed": true
   },
   "outputs": [],
   "source": [
    "def memoize(f):\n",
    "    memo={}\n",
    "\n",
    "    def helper(g,x,y,z):\n",
    "        if (x,y,z) not in memo:\n",
    "            if (y,x,z) not in memo:\n",
    "                memo[(x,y,z)]=f(g,i=x,j=y,cutoff=z)\n",
    "                #print(memo)\n",
    "                return memo[(x,y,z)]\n",
    "            \n",
    "            return memo[(y,x,z)]\n",
    "        return memo[(x,y,z)]\n",
    "\n",
    "    return helper"
   ]
  },
  {
   "cell_type": "code",
   "execution_count": null,
   "metadata": {
    "collapsed": true
   },
   "outputs": [],
   "source": [
    "@memoize\n",
    "def calculate_path_weight(G, i, j, cutoff):\n",
    "    \"\"\"https://networkx.github.io/documentation/networkx-1.10/reference/generated/networkx.algorithms.simple_paths.all_simple_paths.html\"\"\"\n",
    "    # put G = nx.Graph(adj) before calling the function\n",
    "    paths = nx.all_simple_paths(G, source=i, target=j,cutoff=cutoff)\n",
    "    paths=[p for p in paths]\n",
    "    return len(paths)"
   ]
  },
  {
   "cell_type": "code",
   "execution_count": null,
   "metadata": {
    "collapsed": true
   },
   "outputs": [],
   "source": [
    "path_len = calculate_path_weight(G,0,1378,2)"
   ]
  },
  {
   "cell_type": "code",
   "execution_count": null,
   "metadata": {
    "collapsed": true
   },
   "outputs": [],
   "source": [
    "path_len"
   ]
  },
  {
   "cell_type": "code",
   "execution_count": null,
   "metadata": {
    "collapsed": true
   },
   "outputs": [],
   "source": [
    "features.shape"
   ]
  },
  {
   "cell_type": "markdown",
   "metadata": {},
   "source": [
    "## Lets create Weight matrix (k=1 and k=2) for i=0"
   ]
  },
  {
   "cell_type": "code",
   "execution_count": null,
   "metadata": {
    "collapsed": true
   },
   "outputs": [],
   "source": [
    "w_k1 = []\n",
    "w_k2 = []\n",
    "for j in range(features.shape[0]):\n",
    "    w_k1.append(calculate_path_weight(G,0,j,1))\n",
    "    w_k2.append(calculate_path_weight(G,0,j,2))"
   ]
  },
  {
   "cell_type": "code",
   "execution_count": null,
   "metadata": {
    "collapsed": true
   },
   "outputs": [],
   "source": [
    "import numpy as np"
   ]
  },
  {
   "cell_type": "code",
   "execution_count": null,
   "metadata": {
    "collapsed": true
   },
   "outputs": [],
   "source": [
    "w_k1=np.asarray(w_k1,np.float32)\n",
    "w_k2=np.asarray(w_k2,np.float32)"
   ]
  },
  {
   "cell_type": "code",
   "execution_count": null,
   "metadata": {
    "collapsed": true
   },
   "outputs": [],
   "source": [
    "w_k1 = w_k1.reshape([w_k1.shape[0],1])\n",
    "w_k2 = w_k2.reshape([w_k2.shape[0],1])"
   ]
  },
  {
   "cell_type": "code",
   "execution_count": null,
   "metadata": {
    "collapsed": true
   },
   "outputs": [],
   "source": [
    "w_k1.shape"
   ]
  },
  {
   "cell_type": "code",
   "execution_count": null,
   "metadata": {
    "collapsed": true
   },
   "outputs": [],
   "source": [
    "w_k2.shape"
   ]
  },
  {
   "cell_type": "code",
   "execution_count": null,
   "metadata": {
    "collapsed": true
   },
   "outputs": [],
   "source": [
    "(w_k1*w_k2).sum()"
   ]
  },
  {
   "cell_type": "code",
   "execution_count": null,
   "metadata": {
    "collapsed": true
   },
   "outputs": [],
   "source": [
    "tensor = tf.matmul(w_k1.T,w_k2)"
   ]
  },
  {
   "cell_type": "code",
   "execution_count": null,
   "metadata": {
    "collapsed": true
   },
   "outputs": [],
   "source": [
    "with tf.Session() as sess:\n",
    "    print(tensor.eval())"
   ]
  },
  {
   "cell_type": "markdown",
   "metadata": {},
   "source": [
    "## Lets multiply it by the feature vector, Xc for c = 1"
   ]
  },
  {
   "cell_type": "code",
   "execution_count": null,
   "metadata": {
    "collapsed": true
   },
   "outputs": [],
   "source": [
    "#features = preprocess_features(features)"
   ]
  },
  {
   "cell_type": "code",
   "execution_count": null,
   "metadata": {
    "collapsed": true
   },
   "outputs": [],
   "source": [
    "f=features.todense()[0:,1]"
   ]
  },
  {
   "cell_type": "code",
   "execution_count": null,
   "metadata": {
    "collapsed": true
   },
   "outputs": [],
   "source": [
    "s = w_k1.T*f"
   ]
  },
  {
   "cell_type": "code",
   "execution_count": null,
   "metadata": {
    "collapsed": true
   },
   "outputs": [],
   "source": [
    "s"
   ]
  },
  {
   "cell_type": "markdown",
   "metadata": {},
   "source": [
    ".\n",
    "\n",
    "\n",
    "\n",
    "."
   ]
  },
  {
   "cell_type": "markdown",
   "metadata": {},
   "source": [
    "# SECTION 2"
   ]
  },
  {
   "cell_type": "markdown",
   "metadata": {},
   "source": [
    ".\n",
    "multi-filter:\n",
    "\n",
    "https://github.com/krohak/CADL/blob/master/session-3/lecture-3.ipynb\n",
    "\n",
    "https://github.com/krohak/CADL/blob/master/session-3/session-3.ipynb\n",
    "\n",
    "https://github.com/krohak/CADL/blob/master/session-3/libs/utils.py\n",
    "\n",
    "optimizer:\n",
    "\n",
    "https://github.com/krohak/CADL/blob/master/session-2/lecture-2.ipynb\n",
    "\n",
    "https://github.com/krohak/CADL/blob/master/session-2/session-2.ipynb\n",
    "."
   ]
  },
  {
   "cell_type": "code",
   "execution_count": null,
   "metadata": {
    "collapsed": true
   },
   "outputs": [],
   "source": [
    "var_gs = {}\n",
    "name = '01'\n",
    "Fl = 8\n",
    "Kl = 2\n",
    "Cl = features.shape[1]\n",
    "Nl = features.shape[0]"
   ]
  },
  {
   "cell_type": "code",
   "execution_count": null,
   "metadata": {
    "collapsed": true
   },
   "outputs": [],
   "source": [
    "from inits import *"
   ]
  },
  {
   "cell_type": "code",
   "execution_count": null,
   "metadata": {
    "collapsed": true
   },
   "outputs": [],
   "source": [
    "with tf.variable_scope( name + '_vars'):\n",
    "        for k in range(Kl):\n",
    "                for c in range(Cl):\n",
    "                    var_gs['weights_' + str(k+1) + '_' + str(c+1)] = glorot([1,Fl],\n",
    "                                                            name=('weights_' + str(k+1) + '_' + str(c+1)))"
   ]
  },
  {
   "cell_type": "code",
   "execution_count": null,
   "metadata": {
    "collapsed": true
   },
   "outputs": [],
   "source": [
    "var_gs"
   ]
  },
  {
   "cell_type": "markdown",
   "metadata": {},
   "source": [
    "To get a list of current nodes in graph"
   ]
  },
  {
   "cell_type": "code",
   "execution_count": null,
   "metadata": {
    "collapsed": true
   },
   "outputs": [],
   "source": [
    "[n.name for n in tf.get_default_graph().as_graph_def().node]"
   ]
  },
  {
   "cell_type": "markdown",
   "metadata": {},
   "source": [
    "Clear the graph"
   ]
  },
  {
   "cell_type": "code",
   "execution_count": null,
   "metadata": {
    "collapsed": true
   },
   "outputs": [],
   "source": [
    "var_gs = {}\n",
    "name = '01'\n",
    "Fl = 8\n",
    "Kl = 2\n",
    "Cl = features.shape[1]\n",
    "Nl = features.shape[0]\n",
    "from tensorflow.python.framework.ops import reset_default_graph\n",
    "reset_default_graph()"
   ]
  },
  {
   "cell_type": "code",
   "execution_count": 37,
   "metadata": {},
   "outputs": [
    {
     "data": {
      "text/plain": [
       "['Placeholder',\n",
       " 'Placeholder_1',\n",
       " '01_vars/strided_slice/stack',\n",
       " '01_vars/strided_slice/stack_1',\n",
       " '01_vars/strided_slice/stack_2',\n",
       " '01_vars/strided_slice',\n",
       " '01_vars/MatMul',\n",
       " '01_vars/G_k_0/Initializer/random_uniform/shape',\n",
       " '01_vars/G_k_0/Initializer/random_uniform/min',\n",
       " '01_vars/G_k_0/Initializer/random_uniform/max',\n",
       " '01_vars/G_k_0/Initializer/random_uniform/RandomUniform',\n",
       " '01_vars/G_k_0/Initializer/random_uniform/sub',\n",
       " '01_vars/G_k_0/Initializer/random_uniform/mul',\n",
       " '01_vars/G_k_0/Initializer/random_uniform',\n",
       " '01_vars/G_k_0',\n",
       " '01_vars/G_k_0/Assign',\n",
       " '01_vars/G_k_0/read',\n",
       " '01_vars/MatMul_1',\n",
       " '01_vars/Add/x',\n",
       " '01_vars/Add',\n",
       " '01_vars/strided_slice_1/stack',\n",
       " '01_vars/strided_slice_1/stack_1',\n",
       " '01_vars/strided_slice_1/stack_2',\n",
       " '01_vars/strided_slice_1',\n",
       " '01_vars/MatMul_2',\n",
       " '01_vars/G_k_1/Initializer/random_uniform/shape',\n",
       " '01_vars/G_k_1/Initializer/random_uniform/min',\n",
       " '01_vars/G_k_1/Initializer/random_uniform/max',\n",
       " '01_vars/G_k_1/Initializer/random_uniform/RandomUniform',\n",
       " '01_vars/G_k_1/Initializer/random_uniform/sub',\n",
       " '01_vars/G_k_1/Initializer/random_uniform/mul',\n",
       " '01_vars/G_k_1/Initializer/random_uniform',\n",
       " '01_vars/G_k_1',\n",
       " '01_vars/G_k_1/Assign',\n",
       " '01_vars/G_k_1/read',\n",
       " '01_vars/MatMul_3',\n",
       " '01_vars/Add_1',\n",
       " 'zeros',\n",
       " 'bias',\n",
       " 'bias/Assign',\n",
       " 'bias/read',\n",
       " 'Relu',\n",
       " '01_vars_1/strided_slice/stack',\n",
       " '01_vars_1/strided_slice/stack_1',\n",
       " '01_vars_1/strided_slice/stack_2',\n",
       " '01_vars_1/strided_slice',\n",
       " '01_vars_1/MatMul',\n",
       " '01_vars/G_k2_0/Initializer/random_uniform/shape',\n",
       " '01_vars/G_k2_0/Initializer/random_uniform/min',\n",
       " '01_vars/G_k2_0/Initializer/random_uniform/max',\n",
       " '01_vars/G_k2_0/Initializer/random_uniform/RandomUniform',\n",
       " '01_vars/G_k2_0/Initializer/random_uniform/sub',\n",
       " '01_vars/G_k2_0/Initializer/random_uniform/mul',\n",
       " '01_vars/G_k2_0/Initializer/random_uniform',\n",
       " '01_vars/G_k2_0',\n",
       " '01_vars/G_k2_0/Assign',\n",
       " '01_vars/G_k2_0/read',\n",
       " '01_vars_1/MatMul_1',\n",
       " '01_vars_1/Add',\n",
       " '01_vars_1/strided_slice_1/stack',\n",
       " '01_vars_1/strided_slice_1/stack_1',\n",
       " '01_vars_1/strided_slice_1/stack_2',\n",
       " '01_vars_1/strided_slice_1',\n",
       " '01_vars_1/MatMul_2',\n",
       " '01_vars/G_k2_1/Initializer/random_uniform/shape',\n",
       " '01_vars/G_k2_1/Initializer/random_uniform/min',\n",
       " '01_vars/G_k2_1/Initializer/random_uniform/max',\n",
       " '01_vars/G_k2_1/Initializer/random_uniform/RandomUniform',\n",
       " '01_vars/G_k2_1/Initializer/random_uniform/sub',\n",
       " '01_vars/G_k2_1/Initializer/random_uniform/mul',\n",
       " '01_vars/G_k2_1/Initializer/random_uniform',\n",
       " '01_vars/G_k2_1',\n",
       " '01_vars/G_k2_1/Assign',\n",
       " '01_vars/G_k2_1/read',\n",
       " '01_vars_1/MatMul_3',\n",
       " '01_vars_1/Add_1',\n",
       " 'zeros_1',\n",
       " 'bias_1',\n",
       " 'bias_1/Assign',\n",
       " 'bias_1/read',\n",
       " 'Relu_1',\n",
       " 'zeros_2',\n",
       " 'bias_2',\n",
       " 'bias_2/Assign',\n",
       " 'bias_2/read',\n",
       " 'Relu_2',\n",
       " '01_vars_2/strided_slice/stack',\n",
       " '01_vars_2/strided_slice/stack_1',\n",
       " '01_vars_2/strided_slice/stack_2',\n",
       " '01_vars_2/strided_slice',\n",
       " '01_vars_2/MatMul',\n",
       " '01_vars_3/strided_slice/stack',\n",
       " '01_vars_3/strided_slice/stack_1',\n",
       " '01_vars_3/strided_slice/stack_2',\n",
       " '01_vars_3/strided_slice',\n",
       " '01_vars_3/MatMul',\n",
       " '01_vars/G_k3_1/Initializer/random_uniform/shape',\n",
       " '01_vars/G_k3_1/Initializer/random_uniform/min',\n",
       " '01_vars/G_k3_1/Initializer/random_uniform/max',\n",
       " '01_vars/G_k3_1/Initializer/random_uniform/RandomUniform',\n",
       " '01_vars/G_k3_1/Initializer/random_uniform/sub',\n",
       " '01_vars/G_k3_1/Initializer/random_uniform/mul',\n",
       " '01_vars/G_k3_1/Initializer/random_uniform',\n",
       " '01_vars/G_k3_1',\n",
       " '01_vars/G_k3_1/Assign',\n",
       " '01_vars/G_k3_1/read',\n",
       " '01_vars_3/MatMul_1',\n",
       " 'zeros_3',\n",
       " 'bias_3',\n",
       " 'bias_3/Assign',\n",
       " 'bias_3/read',\n",
       " 'Relu_3',\n",
       " 'init']"
      ]
     },
     "execution_count": 37,
     "metadata": {},
     "output_type": "execute_result"
    }
   ],
   "source": [
    "g = tf.get_default_graph()\n",
    "[op.name for op in g.get_operations()]"
   ]
  },
  {
   "cell_type": "code",
   "execution_count": null,
   "metadata": {
    "collapsed": true
   },
   "outputs": [],
   "source": [
    "#s = tf.constant(s[0,0])"
   ]
  },
  {
   "cell_type": "code",
   "execution_count": null,
   "metadata": {
    "collapsed": true
   },
   "outputs": [],
   "source": [
    "t = s[0,0]*var_gs['weights_' + str(1) + '_' + str(1)]\n",
    "z = s[0,0]*var_gs['weights_' + str(1) + '_' + str(1)]\n",
    "#with sess.as_default():\n",
    "#t.eval()\n",
    "sess = tf.Session()\n",
    "sess.run(tf.global_variables_initializer())\n",
    "sess.run((t,z,t+z))\n",
    "type(t.eval(session=sess))"
   ]
  },
  {
   "cell_type": "code",
   "execution_count": null,
   "metadata": {
    "collapsed": true
   },
   "outputs": [],
   "source": [
    "def dot(x, y, sparse=False):\n",
    "    \"\"\"Wrapper for tf.matmul (sparse vs dense).\"\"\"\n",
    "    if sparse:\n",
    "        res = tf.sparse_tensor_dense_matmul(x, y)\n",
    "    else:\n",
    "        res = tf.matmul(x, y)\n",
    "    return res"
   ]
  },
  {
   "cell_type": "code",
   "execution_count": null,
   "metadata": {
    "collapsed": true
   },
   "outputs": [],
   "source": [
    "dot(s[0,0], var_gs['weights_' + str(1) + '_' + str(1)])"
   ]
  },
  {
   "cell_type": "markdown",
   "metadata": {},
   "source": [
    ".\n",
    "\n",
    "\n",
    "\n",
    "."
   ]
  },
  {
   "cell_type": "code",
   "execution_count": null,
   "metadata": {
    "collapsed": true
   },
   "outputs": [],
   "source": [
    "import networkx as nx\n",
    "G = nx.Graph(adj)"
   ]
  },
  {
   "cell_type": "code",
   "execution_count": null,
   "metadata": {
    "collapsed": true
   },
   "outputs": [],
   "source": [
    "def memoize(f):\n",
    "    memo={}\n",
    "\n",
    "    def helper(g,x,y,z):\n",
    "        if (x,y,z) not in memo:\n",
    "            if (y,x,z) not in memo:\n",
    "                p=f(g,i=x,j=y,cutoff=z)\n",
    "                memo[(x,y,z)]=p\n",
    "                print(x,y,p)\n",
    "                return memo[(x,y,z)]\n",
    "            \n",
    "            return memo[(y,x,z)]\n",
    "        return memo[(x,y,z)]\n",
    "\n",
    "    return helper"
   ]
  },
  {
   "cell_type": "code",
   "execution_count": null,
   "metadata": {
    "collapsed": true
   },
   "outputs": [],
   "source": [
    "@memoize\n",
    "def calculate_path_weight(G, i, j, cutoff):\n",
    "    \"\"\"https://networkx.github.io/documentation/networkx-1.10/reference/generated/networkx.algorithms.simple_paths.all_simple_paths.html\"\"\"\n",
    "    # put G = nx.Graph(adj) before calling the function\n",
    "    paths = nx.all_simple_paths(G, source=i, target=j,cutoff=cutoff)\n",
    "    paths=[p for p in paths]\n",
    "    return len(paths)"
   ]
  },
  {
   "cell_type": "code",
   "execution_count": null,
   "metadata": {
    "collapsed": true
   },
   "outputs": [],
   "source": [
    "for i in range(features.shape[0]):\n",
    "    for k in range(1,Kl):\n",
    "        for j in range(features.shape[0]):\n",
    "            calculate_path_weight(G,i,j,k)"
   ]
  },
  {
   "cell_type": "markdown",
   "metadata": {},
   "source": [
    ".\n",
    "\n",
    "\n",
    "\n",
    "."
   ]
  },
  {
   "cell_type": "code",
   "execution_count": 8,
   "metadata": {
    "collapsed": true
   },
   "outputs": [],
   "source": [
    "a = np.array([1, 2, 3])\n",
    "b = np.array([2, 3, 4])\n",
    "a = np.vstack((a,b))"
   ]
  },
  {
   "cell_type": "code",
   "execution_count": 11,
   "metadata": {
    "collapsed": true
   },
   "outputs": [],
   "source": [
    "a = np.vstack((a,a))"
   ]
  },
  {
   "cell_type": "code",
   "execution_count": 12,
   "metadata": {},
   "outputs": [
    {
     "data": {
      "text/plain": [
       "array([[1, 2, 3],\n",
       "       [2, 3, 4],\n",
       "       [1, 2, 3],\n",
       "       [2, 3, 4]])"
      ]
     },
     "execution_count": 12,
     "metadata": {},
     "output_type": "execute_result"
    }
   ],
   "source": [
    "a"
   ]
  },
  {
   "cell_type": "markdown",
   "metadata": {},
   "source": [
    "# SECTION 3"
   ]
  },
  {
   "cell_type": "code",
   "execution_count": 1,
   "metadata": {},
   "outputs": [
    {
     "name": "stderr",
     "output_type": "stream",
     "text": [
      "/home/krohak/anaconda3/lib/python3.6/importlib/_bootstrap.py:205: RuntimeWarning: compiletime version 3.5 of module 'tensorflow.python.framework.fast_tensor_util' does not match runtime version 3.6\n",
      "  return f(*args, **kwds)\n"
     ]
    }
   ],
   "source": [
    "import tensorflow as tf\n",
    "import numpy as np"
   ]
  },
  {
   "cell_type": "code",
   "execution_count": 104,
   "metadata": {
    "collapsed": true
   },
   "outputs": [],
   "source": [
    "from utils import *\n",
    "from metrics import *"
   ]
  },
  {
   "cell_type": "code",
   "execution_count": 3,
   "metadata": {},
   "outputs": [],
   "source": [
    "flags = tf.app.flags\n",
    "FLAGS = flags.FLAGS\n",
    "flags.DEFINE_string('dataset', 'cora', 'Dataset string.')  # 'cora', 'citeseer', 'pubmed'\n",
    "flags.DEFINE_string('model', 'gcn', 'Model string.')  # 'gcn', 'gcn_cheby', 'dense'\n",
    "flags.DEFINE_float('learning_rate', 0.01, 'Initial learning rate.')\n",
    "flags.DEFINE_integer('epochs', 200, 'Number of epochs to train.')\n",
    "flags.DEFINE_integer('hidden1', 16, 'Number of units in hidden layer 1.')\n",
    "flags.DEFINE_float('dropout', 0.5, 'Dropout rate (1 - keep probability).')\n",
    "flags.DEFINE_float('weight_decay', 5e-4, 'Weight for L2 loss on embedding matrix.')\n",
    "flags.DEFINE_integer('early_stopping', 10, 'Tolerance for early stopping (# of epochs).')\n",
    "flags.DEFINE_integer('max_degree', 3, 'Maximum Chebyshev polynomial degree.')"
   ]
  },
  {
   "cell_type": "code",
   "execution_count": 157,
   "metadata": {
    "collapsed": true
   },
   "outputs": [],
   "source": [
    "adj, features, y_train, y_val, y_test, train_mask, val_mask, test_mask = load_data(FLAGS.dataset)\n",
    "#features = preprocess_features(features)"
   ]
  },
  {
   "cell_type": "code",
   "execution_count": 158,
   "metadata": {
    "collapsed": true
   },
   "outputs": [],
   "source": [
    "features = features.todense()"
   ]
  },
  {
   "cell_type": "code",
   "execution_count": 159,
   "metadata": {
    "collapsed": true
   },
   "outputs": [],
   "source": [
    "path_weight_matrix = np.load(\"path_weights.dat\")\n",
    "path_weight_matrix.shape\n",
    "path_weight_matrix = path_weight_matrix.astype('float32')"
   ]
  },
  {
   "cell_type": "code",
   "execution_count": 160,
   "metadata": {},
   "outputs": [
    {
     "data": {
      "text/plain": [
       "(2708,)"
      ]
     },
     "execution_count": 160,
     "metadata": {},
     "output_type": "execute_result"
    }
   ],
   "source": [
    "path_weight_matrix[1,:,1].shape"
   ]
  },
  {
   "cell_type": "code",
   "execution_count": 161,
   "metadata": {},
   "outputs": [
    {
     "data": {
      "text/plain": [
       "numpy.matrixlib.defmatrix.matrix"
      ]
     },
     "execution_count": 161,
     "metadata": {},
     "output_type": "execute_result"
    }
   ],
   "source": [
    "type(features)"
   ]
  },
  {
   "cell_type": "code",
   "execution_count": 162,
   "metadata": {},
   "outputs": [
    {
     "data": {
      "text/plain": [
       "(dtype('float32'), (2708, 2708, 2))"
      ]
     },
     "execution_count": 162,
     "metadata": {},
     "output_type": "execute_result"
    }
   ],
   "source": [
    "f=features\n",
    "output=[]\n",
    "output = np.asarray(output,dtype=np.float32)\n",
    "path_weight_matrix.dtype, path_weight_matrix.shape"
   ]
  },
  {
   "cell_type": "code",
   "execution_count": 163,
   "metadata": {},
   "outputs": [
    {
     "data": {
      "text/plain": [
       "(2708, 1433)"
      ]
     },
     "execution_count": 163,
     "metadata": {},
     "output_type": "execute_result"
    }
   ],
   "source": [
    "features.shape"
   ]
  },
  {
   "cell_type": "code",
   "execution_count": 220,
   "metadata": {},
   "outputs": [
    {
     "data": {
      "text/plain": [
       "[]"
      ]
     },
     "execution_count": 220,
     "metadata": {},
     "output_type": "execute_result"
    }
   ],
   "source": [
    "g = tf.get_default_graph()\n",
    "[op.name for op in g.get_operations()]"
   ]
  },
  {
   "cell_type": "code",
   "execution_count": 228,
   "metadata": {
    "collapsed": true
   },
   "outputs": [],
   "source": [
    "from inits import *\n",
    "var_gs = {}\n",
    "name = '01'\n",
    "Fl = 8\n",
    "Kl = 2\n",
    "Cl = features.shape[1]\n",
    "Nl = features.shape[0]\n",
    "from tensorflow.python.framework.ops import reset_default_graph\n",
    "reset_default_graph()"
   ]
  },
  {
   "cell_type": "code",
   "execution_count": 229,
   "metadata": {},
   "outputs": [
    {
     "name": "stdout",
     "output_type": "stream",
     "text": [
      "(2708, 8)\n",
      "(2708, 8)\n"
     ]
    }
   ],
   "source": [
    "# features_m = tf.sparse_placeholder(tf.float32, shape=[features[2][0], features[2][1]])\n",
    "features_m = tf.placeholder(tf.float32, shape=[features.shape[0], features.shape[1]])\n",
    "pwm = tf.placeholder(tf.float32, [Nl, Nl, Kl])\n",
    "outputs=[]\n",
    "\n",
    "conv = np.zeros([Nl,Fl],dtype=np.float32)\n",
    "#tf.placeholder(tf.float32, shape=[Nl,Fl])\n",
    "\n",
    "# droupout\n",
    "features_m = tf.nn.dropout(features_m, 1-FLAGS.dropout)\n",
    "\n",
    "with tf.variable_scope( name + '_vars'):    \n",
    "     \n",
    "    for k in range(Kl):\n",
    "        \n",
    "        w_k = pwm[:,:,k]\n",
    "        \n",
    "#         s = tf.sparse_tensor_dense_matmul(sp_a=features_m, b=w_k)\n",
    "        s = tf.matmul(w_k,features_m)\n",
    "    \n",
    "        G_k = tf.get_variable(name=('G_k_%s'%(k)),initializer=tf.contrib.layers.xavier_initializer(),shape=[Cl,Fl])\n",
    "        \n",
    "        res = tf.matmul(s,G_k)\n",
    "        \n",
    "        outputs.append(res)\n",
    "        \n",
    "        conv = tf.add(conv,res)\n",
    "        \n",
    "        print(conv.shape)\n",
    "    \n",
    "        outputs.append(conv)\n",
    "    \n",
    "# add bias\n",
    "initial = tf.zeros([Nl,Fl], dtype=tf.float32)\n",
    "bias = tf.Variable(initial, name='bias')\n",
    "\n",
    "conv = tf.add(conv,bias)\n",
    "\n",
    "# apply non-linearity\n",
    "conv = tf.nn.relu(conv)"
   ]
  },
  {
   "cell_type": "code",
   "execution_count": 230,
   "metadata": {},
   "outputs": [
    {
     "name": "stdout",
     "output_type": "stream",
     "text": [
      "(2708, 8)\n",
      "(2708, 8)\n"
     ]
    }
   ],
   "source": [
    "with tf.variable_scope( name + '_vars'):    \n",
    "     \n",
    "    for k in range(Kl):\n",
    "        \n",
    "        w_k = pwm[:,:,k]\n",
    "        \n",
    "        s = tf.matmul(w_k,conv)\n",
    "    \n",
    "        G_k = tf.get_variable(name=('G_k2_%s'%(k)),initializer=tf.contrib.layers.xavier_initializer(),shape=[Fl,Fl])\n",
    "        \n",
    "        res = tf.matmul(s,G_k)\n",
    "        \n",
    "        outputs.append(res)\n",
    "        \n",
    "        conv = tf.add(conv,res)\n",
    "        \n",
    "        print(conv.shape)\n",
    "    \n",
    "        outputs.append(conv)\n",
    "\n",
    "# add bias\n",
    "initial = tf.zeros([Nl,Fl], dtype=tf.float32)\n",
    "bias = tf.Variable(initial, name='bias2')\n",
    "\n",
    "conv = tf.add(conv,bias)\n",
    "\n",
    "# apply non-linearity\n",
    "conv = tf.nn.relu(conv)"
   ]
  },
  {
   "cell_type": "code",
   "execution_count": 231,
   "metadata": {},
   "outputs": [
    {
     "name": "stdout",
     "output_type": "stream",
     "text": [
      "(2708, 7)\n"
     ]
    }
   ],
   "source": [
    "with tf.variable_scope( name + '_vars'):    \n",
    "             \n",
    "    w_k = pwm[:,:,k]\n",
    "\n",
    "    s = tf.matmul(w_k,conv)\n",
    "\n",
    "    G_k = tf.get_variable(name=('G_k3_%s'%(k)),initializer=tf.contrib.layers.xavier_initializer(),shape=[Fl,7])\n",
    "\n",
    "    conv = tf.matmul(s,G_k)\n",
    "    \n",
    "\n",
    "print(conv.shape)    \n",
    "# add bias\n",
    "initial = tf.zeros([Nl,7], dtype=tf.float32)\n",
    "bias = tf.Variable(initial, name='bias3')\n",
    "conv = tf.add(conv,bias)\n",
    "\n",
    "\n",
    "# apply non-linearity\n",
    "conv = tf.nn.relu(conv)"
   ]
  },
  {
   "cell_type": "code",
   "execution_count": 232,
   "metadata": {},
   "outputs": [
    {
     "data": {
      "text/plain": [
       "[<tf.Tensor '01_vars/MatMul_1:0' shape=(2708, 8) dtype=float32>,\n",
       " <tf.Tensor '01_vars/Add:0' shape=(2708, 8) dtype=float32>,\n",
       " <tf.Tensor '01_vars/MatMul_3:0' shape=(2708, 8) dtype=float32>,\n",
       " <tf.Tensor '01_vars/Add_1:0' shape=(2708, 8) dtype=float32>,\n",
       " <tf.Tensor '01_vars_1/MatMul_1:0' shape=(2708, 8) dtype=float32>,\n",
       " <tf.Tensor '01_vars_1/Add:0' shape=(2708, 8) dtype=float32>,\n",
       " <tf.Tensor '01_vars_1/MatMul_3:0' shape=(2708, 8) dtype=float32>,\n",
       " <tf.Tensor '01_vars_1/Add_1:0' shape=(2708, 8) dtype=float32>]"
      ]
     },
     "execution_count": 232,
     "metadata": {},
     "output_type": "execute_result"
    }
   ],
   "source": [
    "outputs"
   ]
  },
  {
   "cell_type": "code",
   "execution_count": 233,
   "metadata": {},
   "outputs": [],
   "source": [
    "#conv = tf.nn.softmax(conv)\n",
    "\n",
    "accuracy = masked_accuracy(conv,y_train, train_mask)\n"
   ]
  },
  {
   "cell_type": "code",
   "execution_count": 234,
   "metadata": {},
   "outputs": [
    {
     "data": {
      "text/plain": [
       "(2708, 7)"
      ]
     },
     "execution_count": 234,
     "metadata": {},
     "output_type": "execute_result"
    }
   ],
   "source": [
    "# one hot encoded\n",
    "y_train.shape"
   ]
  },
  {
   "cell_type": "code",
   "execution_count": 235,
   "metadata": {},
   "outputs": [],
   "source": [
    "loss= 0\n",
    "\n",
    "optimizer = tf.train.AdamOptimizer(learning_rate=FLAGS.learning_rate)\n",
    "\n",
    "loss += masked_softmax_cross_entropy(conv, y_train, train_mask)\n",
    "\n",
    "opt_op = optimizer.minimize(loss)"
   ]
  },
  {
   "cell_type": "code",
   "execution_count": 236,
   "metadata": {},
   "outputs": [],
   "source": [
    "sess = tf.Session()\n",
    "sess.run(tf.global_variables_initializer())\n",
    "evals = sess.run([opt_op,accuracy,loss],feed_dict={features_m:features,pwm:path_weight_matrix})\n",
    "#type(t.eval(session=sess))"
   ]
  },
  {
   "cell_type": "code",
   "execution_count": 237,
   "metadata": {},
   "outputs": [
    {
     "data": {
      "text/plain": [
       "(0.13571428, 306173.09)"
      ]
     },
     "execution_count": 237,
     "metadata": {},
     "output_type": "execute_result"
    }
   ],
   "source": [
    "evals[1], evals[2]"
   ]
  },
  {
   "cell_type": "code",
   "execution_count": 238,
   "metadata": {},
   "outputs": [
    {
     "name": "stdout",
     "output_type": "stream",
     "text": [
      "0.142857 466753.0\n",
      "0.157143 19003.6\n",
      "0.385714 1.90367\n",
      "0.485714 1.68565\n",
      "0.542857 1.6353\n",
      "0.578572 1.58931\n",
      "0.578572 1.54648\n",
      "0.585714 1.50637\n",
      "0.585714 1.46876\n",
      "0.585714 1.43336\n",
      "0.585714 1.39998\n",
      "0.585714 1.36849\n",
      "0.592857 1.33879\n",
      "0.592857 1.31074\n",
      "0.607143 1.28433\n",
      "0.607143 1.25971\n",
      "0.621429 1.23607\n",
      "0.642857 1.21354\n",
      "0.657143 1.19216\n",
      "0.7 1.17132\n",
      "0.7 1.15184\n",
      "0.7 1.13484\n",
      "0.707143 1.11924\n",
      "0.728572 1.10482\n",
      "0.721429 1.09133\n",
      "0.742857 1.07858\n",
      "0.75 1.06626\n",
      "0.757143 1.05433\n",
      "0.75 1.04281\n",
      "0.757143 1.03166\n",
      "0.771429 1.0208\n",
      "0.785714 1.01027\n",
      "0.792857 1.00004\n",
      "0.821429 0.990092\n",
      "0.828572 0.980478\n",
      "0.835714 0.971162\n",
      "0.842857 0.962064\n",
      "0.842857 0.953185\n",
      "0.842857 0.944522\n",
      "0.857143 0.936096\n",
      "0.857143 0.927869\n",
      "0.857143 0.919905\n",
      "0.857143 0.912214\n",
      "0.857143 0.90472\n",
      "0.857143 0.897392\n",
      "0.864286 0.890223\n",
      "0.864286 0.883209\n",
      "0.864286 0.876351\n",
      "0.864286 0.869648\n",
      "0.864286 0.863101\n",
      "0.864286 0.856724\n",
      "0.857143 0.850521\n",
      "0.857143 0.8445\n",
      "0.857143 0.838622\n",
      "0.85 0.832888\n"
     ]
    },
    {
     "ename": "KeyboardInterrupt",
     "evalue": "",
     "output_type": "error",
     "traceback": [
      "\u001b[0;31m---------------------------------------------------------------------------\u001b[0m",
      "\u001b[0;31mKeyboardInterrupt\u001b[0m                         Traceback (most recent call last)",
      "\u001b[0;32m<ipython-input-238-58dbf76cfa2b>\u001b[0m in \u001b[0;36m<module>\u001b[0;34m()\u001b[0m\n\u001b[1;32m      1\u001b[0m \u001b[0;32mfor\u001b[0m \u001b[0mepoch\u001b[0m \u001b[0;32min\u001b[0m \u001b[0mrange\u001b[0m\u001b[0;34m(\u001b[0m\u001b[0mFLAGS\u001b[0m\u001b[0;34m.\u001b[0m\u001b[0mepochs\u001b[0m\u001b[0;34m)\u001b[0m\u001b[0;34m:\u001b[0m\u001b[0;34m\u001b[0m\u001b[0m\n\u001b[1;32m      2\u001b[0m \u001b[0;34m\u001b[0m\u001b[0m\n\u001b[0;32m----> 3\u001b[0;31m     \u001b[0mevals\u001b[0m \u001b[0;34m=\u001b[0m \u001b[0msess\u001b[0m\u001b[0;34m.\u001b[0m\u001b[0mrun\u001b[0m\u001b[0;34m(\u001b[0m\u001b[0;34m[\u001b[0m\u001b[0mopt_op\u001b[0m\u001b[0;34m,\u001b[0m\u001b[0maccuracy\u001b[0m\u001b[0;34m,\u001b[0m\u001b[0mloss\u001b[0m\u001b[0;34m]\u001b[0m\u001b[0;34m,\u001b[0m\u001b[0mfeed_dict\u001b[0m\u001b[0;34m=\u001b[0m\u001b[0;34m{\u001b[0m\u001b[0mfeatures_m\u001b[0m\u001b[0;34m:\u001b[0m\u001b[0mfeatures\u001b[0m\u001b[0;34m,\u001b[0m\u001b[0mpwm\u001b[0m\u001b[0;34m:\u001b[0m\u001b[0mpath_weight_matrix\u001b[0m\u001b[0;34m}\u001b[0m\u001b[0;34m)\u001b[0m\u001b[0;34m\u001b[0m\u001b[0m\n\u001b[0m\u001b[1;32m      4\u001b[0m     \u001b[0mprint\u001b[0m\u001b[0;34m(\u001b[0m\u001b[0mevals\u001b[0m\u001b[0;34m[\u001b[0m\u001b[0;36m1\u001b[0m\u001b[0;34m]\u001b[0m\u001b[0;34m,\u001b[0m \u001b[0mevals\u001b[0m\u001b[0;34m[\u001b[0m\u001b[0;36m2\u001b[0m\u001b[0;34m]\u001b[0m\u001b[0;34m)\u001b[0m\u001b[0;34m\u001b[0m\u001b[0m\n",
      "\u001b[0;32m/home/krohak/anaconda3/lib/python3.6/site-packages/tensorflow/python/client/session.py\u001b[0m in \u001b[0;36mrun\u001b[0;34m(self, fetches, feed_dict, options, run_metadata)\u001b[0m\n\u001b[1;32m    887\u001b[0m     \u001b[0;32mtry\u001b[0m\u001b[0;34m:\u001b[0m\u001b[0;34m\u001b[0m\u001b[0m\n\u001b[1;32m    888\u001b[0m       result = self._run(None, fetches, feed_dict, options_ptr,\n\u001b[0;32m--> 889\u001b[0;31m                          run_metadata_ptr)\n\u001b[0m\u001b[1;32m    890\u001b[0m       \u001b[0;32mif\u001b[0m \u001b[0mrun_metadata\u001b[0m\u001b[0;34m:\u001b[0m\u001b[0;34m\u001b[0m\u001b[0m\n\u001b[1;32m    891\u001b[0m         \u001b[0mproto_data\u001b[0m \u001b[0;34m=\u001b[0m \u001b[0mtf_session\u001b[0m\u001b[0;34m.\u001b[0m\u001b[0mTF_GetBuffer\u001b[0m\u001b[0;34m(\u001b[0m\u001b[0mrun_metadata_ptr\u001b[0m\u001b[0;34m)\u001b[0m\u001b[0;34m\u001b[0m\u001b[0m\n",
      "\u001b[0;32m/home/krohak/anaconda3/lib/python3.6/site-packages/tensorflow/python/client/session.py\u001b[0m in \u001b[0;36m_run\u001b[0;34m(self, handle, fetches, feed_dict, options, run_metadata)\u001b[0m\n\u001b[1;32m   1118\u001b[0m     \u001b[0;32mif\u001b[0m \u001b[0mfinal_fetches\u001b[0m \u001b[0;32mor\u001b[0m \u001b[0mfinal_targets\u001b[0m \u001b[0;32mor\u001b[0m \u001b[0;34m(\u001b[0m\u001b[0mhandle\u001b[0m \u001b[0;32mand\u001b[0m \u001b[0mfeed_dict_tensor\u001b[0m\u001b[0;34m)\u001b[0m\u001b[0;34m:\u001b[0m\u001b[0;34m\u001b[0m\u001b[0m\n\u001b[1;32m   1119\u001b[0m       results = self._do_run(handle, final_targets, final_fetches,\n\u001b[0;32m-> 1120\u001b[0;31m                              feed_dict_tensor, options, run_metadata)\n\u001b[0m\u001b[1;32m   1121\u001b[0m     \u001b[0;32melse\u001b[0m\u001b[0;34m:\u001b[0m\u001b[0;34m\u001b[0m\u001b[0m\n\u001b[1;32m   1122\u001b[0m       \u001b[0mresults\u001b[0m \u001b[0;34m=\u001b[0m \u001b[0;34m[\u001b[0m\u001b[0;34m]\u001b[0m\u001b[0;34m\u001b[0m\u001b[0m\n",
      "\u001b[0;32m/home/krohak/anaconda3/lib/python3.6/site-packages/tensorflow/python/client/session.py\u001b[0m in \u001b[0;36m_do_run\u001b[0;34m(self, handle, target_list, fetch_list, feed_dict, options, run_metadata)\u001b[0m\n\u001b[1;32m   1315\u001b[0m     \u001b[0;32mif\u001b[0m \u001b[0mhandle\u001b[0m \u001b[0;32mis\u001b[0m \u001b[0;32mNone\u001b[0m\u001b[0;34m:\u001b[0m\u001b[0;34m\u001b[0m\u001b[0m\n\u001b[1;32m   1316\u001b[0m       return self._do_call(_run_fn, self._session, feeds, fetches, targets,\n\u001b[0;32m-> 1317\u001b[0;31m                            options, run_metadata)\n\u001b[0m\u001b[1;32m   1318\u001b[0m     \u001b[0;32melse\u001b[0m\u001b[0;34m:\u001b[0m\u001b[0;34m\u001b[0m\u001b[0m\n\u001b[1;32m   1319\u001b[0m       \u001b[0;32mreturn\u001b[0m \u001b[0mself\u001b[0m\u001b[0;34m.\u001b[0m\u001b[0m_do_call\u001b[0m\u001b[0;34m(\u001b[0m\u001b[0m_prun_fn\u001b[0m\u001b[0;34m,\u001b[0m \u001b[0mself\u001b[0m\u001b[0;34m.\u001b[0m\u001b[0m_session\u001b[0m\u001b[0;34m,\u001b[0m \u001b[0mhandle\u001b[0m\u001b[0;34m,\u001b[0m \u001b[0mfeeds\u001b[0m\u001b[0;34m,\u001b[0m \u001b[0mfetches\u001b[0m\u001b[0;34m)\u001b[0m\u001b[0;34m\u001b[0m\u001b[0m\n",
      "\u001b[0;32m/home/krohak/anaconda3/lib/python3.6/site-packages/tensorflow/python/client/session.py\u001b[0m in \u001b[0;36m_do_call\u001b[0;34m(self, fn, *args)\u001b[0m\n\u001b[1;32m   1321\u001b[0m   \u001b[0;32mdef\u001b[0m \u001b[0m_do_call\u001b[0m\u001b[0;34m(\u001b[0m\u001b[0mself\u001b[0m\u001b[0;34m,\u001b[0m \u001b[0mfn\u001b[0m\u001b[0;34m,\u001b[0m \u001b[0;34m*\u001b[0m\u001b[0margs\u001b[0m\u001b[0;34m)\u001b[0m\u001b[0;34m:\u001b[0m\u001b[0;34m\u001b[0m\u001b[0m\n\u001b[1;32m   1322\u001b[0m     \u001b[0;32mtry\u001b[0m\u001b[0;34m:\u001b[0m\u001b[0;34m\u001b[0m\u001b[0m\n\u001b[0;32m-> 1323\u001b[0;31m       \u001b[0;32mreturn\u001b[0m \u001b[0mfn\u001b[0m\u001b[0;34m(\u001b[0m\u001b[0;34m*\u001b[0m\u001b[0margs\u001b[0m\u001b[0;34m)\u001b[0m\u001b[0;34m\u001b[0m\u001b[0m\n\u001b[0m\u001b[1;32m   1324\u001b[0m     \u001b[0;32mexcept\u001b[0m \u001b[0merrors\u001b[0m\u001b[0;34m.\u001b[0m\u001b[0mOpError\u001b[0m \u001b[0;32mas\u001b[0m \u001b[0me\u001b[0m\u001b[0;34m:\u001b[0m\u001b[0;34m\u001b[0m\u001b[0m\n\u001b[1;32m   1325\u001b[0m       \u001b[0mmessage\u001b[0m \u001b[0;34m=\u001b[0m \u001b[0mcompat\u001b[0m\u001b[0;34m.\u001b[0m\u001b[0mas_text\u001b[0m\u001b[0;34m(\u001b[0m\u001b[0me\u001b[0m\u001b[0;34m.\u001b[0m\u001b[0mmessage\u001b[0m\u001b[0;34m)\u001b[0m\u001b[0;34m\u001b[0m\u001b[0m\n",
      "\u001b[0;32m/home/krohak/anaconda3/lib/python3.6/site-packages/tensorflow/python/client/session.py\u001b[0m in \u001b[0;36m_run_fn\u001b[0;34m(session, feed_dict, fetch_list, target_list, options, run_metadata)\u001b[0m\n\u001b[1;32m   1300\u001b[0m           return tf_session.TF_Run(session, options,\n\u001b[1;32m   1301\u001b[0m                                    \u001b[0mfeed_dict\u001b[0m\u001b[0;34m,\u001b[0m \u001b[0mfetch_list\u001b[0m\u001b[0;34m,\u001b[0m \u001b[0mtarget_list\u001b[0m\u001b[0;34m,\u001b[0m\u001b[0;34m\u001b[0m\u001b[0m\n\u001b[0;32m-> 1302\u001b[0;31m                                    status, run_metadata)\n\u001b[0m\u001b[1;32m   1303\u001b[0m \u001b[0;34m\u001b[0m\u001b[0m\n\u001b[1;32m   1304\u001b[0m     \u001b[0;32mdef\u001b[0m \u001b[0m_prun_fn\u001b[0m\u001b[0;34m(\u001b[0m\u001b[0msession\u001b[0m\u001b[0;34m,\u001b[0m \u001b[0mhandle\u001b[0m\u001b[0;34m,\u001b[0m \u001b[0mfeed_dict\u001b[0m\u001b[0;34m,\u001b[0m \u001b[0mfetch_list\u001b[0m\u001b[0;34m)\u001b[0m\u001b[0;34m:\u001b[0m\u001b[0;34m\u001b[0m\u001b[0m\n",
      "\u001b[0;31mKeyboardInterrupt\u001b[0m: "
     ]
    }
   ],
   "source": [
    "for epoch in range(FLAGS.epochs):\n",
    "    \n",
    "    evals = sess.run([opt_op,accuracy,loss],feed_dict={features_m:features,pwm:path_weight_matrix})\n",
    "    print(evals[1], evals[2])"
   ]
  },
  {
   "cell_type": "markdown",
   "metadata": {},
   "source": [
    "Reusing variables:\n",
    "https://www.tensorflow.org/versions/r0.12/how_tos/variable_scope/"
   ]
  },
  {
   "cell_type": "code",
   "execution_count": null,
   "metadata": {
    "collapsed": true
   },
   "outputs": [],
   "source": [
    "f=features.todense()\n",
    "output=[]\n",
    "output = np.asarray(output,dtype=np.float32)\n",
    "with tf.variable_scope( name + '_vars') as scope:\n",
    "    scope.reuse_variables()\n",
    "    for i in range(features.shape[0]):\n",
    "        conv = tf.get_variable(\"conv\",shape=())\n",
    "        for k in range(Kl):\n",
    "            for c in range(Cl):\n",
    "                var_gs['weights_' + str(k+1) + '_' + str(c+1)] = glorot([1,Fl],name=('weights_' + str(k+1) + '_' + str(c+1)))\n",
    "                w_k = []\n",
    "                w_k = path_weight_matrix[i,:,k]\n",
    "                w_k = np.asarray(w_k,np.float32)\n",
    "                w_k = w_k.reshape([w_k.shape[0],1])\n",
    "                x_c = f[0:,c]\n",
    "                s = tf.matmul(w_k.T,x_c)\n",
    "                conv = tf.add(conv,tf.multiply(s[0,0],var_gs['weights_' + str(k+1) + '_' + str(c+1)]))  \n",
    "        print(conv)  "
   ]
  },
  {
   "cell_type": "markdown",
   "metadata": {},
   "source": [
    "# SECTION 4"
   ]
  },
  {
   "cell_type": "markdown",
   "metadata": {},
   "source": [
    ".\n",
    "\n",
    "Installing TF with GPU:\n",
    "https://www.tensorflow.org/install/install_linux\n",
    "\n",
    "Check available GPUs on TF:\n",
    "https://stackoverflow.com/questions/38559755/how-to-get-current-available-gpus-in-tensorflow\n",
    "\n",
    "Change port of SSH:\n",
    "https://wiki.archlinux.org/index.php/Secure_Shell\n",
    "\n",
    "Check GPU info:\n",
    "https://askubuntu.com/questions/5417/how-to-get-the-gpu-info\n",
    "\n",
    "Distributed TF:\n",
    "https://www.tensorflow.org/deploy/distributed\n",
    "\n",
    "."
   ]
  },
  {
   "cell_type": "markdown",
   "metadata": {},
   "source": [
    "Xavier (Glorot) initializer: https://www.tensorflow.org/api_docs/python/tf/contrib/layers/xavier_initializer\n",
    "\n",
    "Mutmul exceptions: https://stackoverflow.com/questions/34908033/tensorflow-exception-with-matmul\n",
    "\n",
    "tf.Variable: https://www.tensorflow.org/api_docs/python/tf/Variable\n",
    "\n"
   ]
  },
  {
   "cell_type": "markdown",
   "metadata": {},
   "source": [
    ".\n",
    "\n",
    "\n",
    "\n",
    "."
   ]
  },
  {
   "cell_type": "code",
   "execution_count": null,
   "metadata": {
    "collapsed": true
   },
   "outputs": [],
   "source": [
    "print(list(nx.bfs_tree(G,0,0)))"
   ]
  },
  {
   "cell_type": "code",
   "execution_count": null,
   "metadata": {
    "collapsed": true
   },
   "outputs": [],
   "source": [
    "print(nx.shortest_path_length(G,source=0))"
   ]
  },
  {
   "cell_type": "code",
   "execution_count": null,
   "metadata": {
    "collapsed": true
   },
   "outputs": [],
   "source": [
    "one_path = nx.all_pairs_shortest_path(G,cutoff=1)[0]\n",
    "two_path = nx.all_pairs_shortest_path(G,cutoff=2)[0]"
   ]
  },
  {
   "cell_type": "code",
   "execution_count": null,
   "metadata": {
    "collapsed": true
   },
   "outputs": [],
   "source": [
    "print(len(two_path), len(one_path)-1, len(two_path)-len(one_path)-1)"
   ]
  },
  {
   "cell_type": "code",
   "execution_count": null,
   "metadata": {
    "collapsed": true
   },
   "outputs": [],
   "source": [
    "one_path"
   ]
  },
  {
   "cell_type": "code",
   "execution_count": null,
   "metadata": {
    "collapsed": true
   },
   "outputs": [],
   "source": [
    "two_path"
   ]
  },
  {
   "cell_type": "code",
   "execution_count": null,
   "metadata": {
    "collapsed": true
   },
   "outputs": [],
   "source": [
    "type(two_path)"
   ]
  },
  {
   "cell_type": "code",
   "execution_count": null,
   "metadata": {
    "collapsed": true
   },
   "outputs": [],
   "source": [
    "features = preprocess_features(features)"
   ]
  },
  {
   "cell_type": "code",
   "execution_count": null,
   "metadata": {
    "collapsed": true
   },
   "outputs": [],
   "source": [
    "#print(features.shape)\n",
    "features[1].shape\n",
    "#2708*1433"
   ]
  },
  {
   "cell_type": "code",
   "execution_count": null,
   "metadata": {
    "collapsed": true
   },
   "outputs": [],
   "source": [
    "print(adj.toarray())"
   ]
  },
  {
   "cell_type": "code",
   "execution_count": null,
   "metadata": {
    "collapsed": true
   },
   "outputs": [],
   "source": [
    "from __future__ import division\n",
    "from __future__ import print_function\n",
    "\n",
    "import time\n",
    "import tensorflow as tf\n",
    "\n",
    "from utils import *\n",
    "from models import GCN, MLP\n",
    "\n",
    "# Set random seed\n",
    "seed = 123\n",
    "np.random.seed(seed)\n",
    "tf.set_random_seed(seed)\n",
    "\n",
    "# Settings\n",
    "flags = tf.app.flags\n",
    "FLAGS = flags.FLAGS\n",
    "flags.DEFINE_string('dataset', 'pubmed', 'Dataset string.')  # 'cora', 'citeseer', 'pubmed'\n",
    "flags.DEFINE_string('model', 'gcn', 'Model string.')  # 'gcn', 'gcn_cheby', 'dense'\n",
    "flags.DEFINE_float('learning_rate', 0.01, 'Initial learning rate.')\n",
    "flags.DEFINE_integer('epochs', 200, 'Number of epochs to train.')\n",
    "flags.DEFINE_integer('hidden1', 16, 'Number of units in hidden layer 1.')\n",
    "flags.DEFINE_float('dropout', 0.5, 'Dropout rate (1 - keep probability).')\n",
    "flags.DEFINE_float('weight_decay', 5e-4, 'Weight for L2 loss on embedding matrix.')\n",
    "flags.DEFINE_integer('early_stopping', 10, 'Tolerance for early stopping (# of epochs).')\n",
    "flags.DEFINE_integer('max_degree', 3, 'Maximum Chebyshev polynomial degree.')\n",
    "\n",
    "# Load data\n",
    "adj, features, y_train, y_val, y_test, train_mask, val_mask, test_mask = load_data(FLAGS.dataset)\n",
    "\n",
    "# Some preprocessing\n",
    "features = preprocess_features(features)\n",
    "if FLAGS.model == 'gcn':\n",
    "    support = [preprocess_adj(adj)]\n",
    "    num_supports = 1\n",
    "    model_func = GCN\n",
    "elif FLAGS.model == 'gcn_cheby':\n",
    "    support = chebyshev_polynomials(adj, FLAGS.max_degree)\n",
    "    num_supports = 1 + FLAGS.max_degree\n",
    "    model_func = GCN\n",
    "elif FLAGS.model == 'dense':\n",
    "    support = [preprocess_adj(adj)]  # Not used\n",
    "    num_supports = 1\n",
    "    model_func = MLP\n",
    "else:\n",
    "    raise ValueError('Invalid argument for model: ' + str(FLAGS.model))\n",
    "\n",
    "# Define placeholders\n",
    "placeholders = {\n",
    "    'support': [tf.sparse_placeholder(tf.float32) for _ in range(num_supports)],\n",
    "    'features': tf.sparse_placeholder(tf.float32, shape=tf.constant(features[2], dtype=tf.int64)),\n",
    "    'labels': tf.placeholder(tf.float32, shape=(None, y_train.shape[1])),\n",
    "    'labels_mask': tf.placeholder(tf.int32),\n",
    "    'dropout': tf.placeholder_with_default(0., shape=()),\n",
    "    'num_features_nonzero': tf.placeholder(tf.int32)  # helper variable for sparse dropout\n",
    "}\n",
    "\n",
    "# Create model\n",
    "model = model_func(placeholders, input_dim=features[2][1], logging=True)\n",
    "\n",
    "# Initialize session\n",
    "sess = tf.Session()\n",
    "\n",
    "\n",
    "# Define model evaluation function\n",
    "def evaluate(features, support, labels, mask, placeholders):\n",
    "    t_test = time.time()\n",
    "    feed_dict_val = construct_feed_dict(features, support, labels, mask, placeholders)\n",
    "    outs_val = sess.run([model.loss, model.accuracy], feed_dict=feed_dict_val)\n",
    "    return outs_val[0], outs_val[1], (time.time() - t_test)\n",
    "\n",
    "\n",
    "# Init variables\n",
    "sess.run(tf.global_variables_initializer())\n",
    "\n",
    "cost_val = []\n",
    "\n",
    "# Construct feed dictionary\n",
    "feed_dict = construct_feed_dict(features, support, y_train, train_mask, placeholders)\n",
    "feed_dict.update({placeholders['dropout']: FLAGS.dropout})\n",
    "\n",
    "\n",
    "# Train model\n",
    "for epoch in range(FLAGS.epochs):\n",
    "\n",
    "    t = time.time()\n",
    "  \n",
    "\n",
    "    # Training step\n",
    "    outs = sess.run([model.opt_op, model.loss, model.accuracy], feed_dict=feed_dict)\n",
    "\n",
    "    # Validation\n",
    "    cost, acc, duration = evaluate(features, support, y_val, val_mask, placeholders)\n",
    "    cost_val.append(cost)\n",
    "\n",
    "    # Print results\n",
    "    print(\"Epoch:\", '%04d' % (epoch + 1), \"train_loss=\", \"{:.5f}\".format(outs[1]),\n",
    "          \"train_acc=\", \"{:.5f}\".format(outs[2]), \"val_loss=\", \"{:.5f}\".format(cost),\n",
    "          \"val_acc=\", \"{:.5f}\".format(acc), \"time=\", \"{:.5f}\".format(time.time() - t))\n",
    "\n",
    "    if epoch > FLAGS.early_stopping and cost_val[-1] > np.mean(cost_val[-(FLAGS.early_stopping+1):-1]):\n",
    "        print(\"Early stopping...\")\n",
    "        break\n",
    "\n",
    "print(\"Optimization Finished!\")\n",
    "\n",
    "# Testing\n",
    "test_cost, test_acc, test_duration = evaluate(features, support, y_test, test_mask, placeholders)\n",
    "print(\"Test set results:\", \"cost=\", \"{:.5f}\".format(test_cost),\n",
    "      \"accuracy=\", \"{:.5f}\".format(test_acc), \"time=\", \"{:.5f}\".format(test_duration))\n"
   ]
  },
  {
   "cell_type": "code",
   "execution_count": null,
   "metadata": {
    "collapsed": true
   },
   "outputs": [],
   "source": [
    "y_val.shape"
   ]
  },
  {
   "cell_type": "code",
   "execution_count": null,
   "metadata": {
    "collapsed": true
   },
   "outputs": [],
   "source": [
    "features"
   ]
  },
  {
   "cell_type": "code",
   "execution_count": null,
   "metadata": {
    "collapsed": true
   },
   "outputs": [],
   "source": []
  }
 ],
 "metadata": {
  "kernelspec": {
   "display_name": "Python 3",
   "language": "python",
   "name": "python3"
  },
  "language_info": {
   "codemirror_mode": {
    "name": "ipython",
    "version": 3
   },
   "file_extension": ".py",
   "mimetype": "text/x-python",
   "name": "python",
   "nbconvert_exporter": "python",
   "pygments_lexer": "ipython3",
   "version": "3.6.1"
  }
 },
 "nbformat": 4,
 "nbformat_minor": 2
}
